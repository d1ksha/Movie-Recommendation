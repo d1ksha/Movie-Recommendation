{
  "nbformat": 4,
  "nbformat_minor": 0,
  "metadata": {
    "colab": {
      "provenance": []
    },
    "kernelspec": {
      "name": "python3",
      "display_name": "Python 3"
    },
    "language_info": {
      "name": "python"
    }
  },
  "cells": [
    {
      "cell_type": "code",
      "source": [
        "!pip install pandas scikit-learn\n"
      ],
      "metadata": {
        "colab": {
          "base_uri": "https://localhost:8080/"
        },
        "id": "NRl2l3seqJKJ",
        "outputId": "f4d7a515-7639-4020-cc7b-27700729ab38"
      },
      "execution_count": null,
      "outputs": [
        {
          "output_type": "stream",
          "name": "stdout",
          "text": [
            "Requirement already satisfied: pandas in /usr/local/lib/python3.10/dist-packages (2.0.3)\n",
            "Requirement already satisfied: scikit-learn in /usr/local/lib/python3.10/dist-packages (1.2.2)\n",
            "Requirement already satisfied: python-dateutil>=2.8.2 in /usr/local/lib/python3.10/dist-packages (from pandas) (2.8.2)\n",
            "Requirement already satisfied: pytz>=2020.1 in /usr/local/lib/python3.10/dist-packages (from pandas) (2023.4)\n",
            "Requirement already satisfied: tzdata>=2022.1 in /usr/local/lib/python3.10/dist-packages (from pandas) (2024.1)\n",
            "Requirement already satisfied: numpy>=1.21.0 in /usr/local/lib/python3.10/dist-packages (from pandas) (1.25.2)\n",
            "Requirement already satisfied: scipy>=1.3.2 in /usr/local/lib/python3.10/dist-packages (from scikit-learn) (1.11.4)\n",
            "Requirement already satisfied: joblib>=1.1.1 in /usr/local/lib/python3.10/dist-packages (from scikit-learn) (1.4.2)\n",
            "Requirement already satisfied: threadpoolctl>=2.0.0 in /usr/local/lib/python3.10/dist-packages (from scikit-learn) (3.5.0)\n",
            "Requirement already satisfied: six>=1.5 in /usr/local/lib/python3.10/dist-packages (from python-dateutil>=2.8.2->pandas) (1.16.0)\n"
          ]
        }
      ]
    },
    {
      "cell_type": "code",
      "source": [
        "import pandas as pd\n",
        "from sklearn.metrics.pairwise import cosine_similarity\n",
        "from sklearn.feature_extraction.text import CountVectorizer\n",
        "\n",
        "# Load movies dataset\n",
        "movies = pd.read_csv('/content/movies.csv')\n",
        "ratings = pd.read_csv('/content/ratings.csv')\n",
        "\n",
        "# Merge movies and ratings data\n",
        "movie_ratings = pd.merge(movies, ratings, on='movieId')\n",
        "\n",
        "# Pivot table to get user-item ratings matrix\n",
        "user_movie_ratings = movie_ratings.pivot_table(index='userId', columns='title', values='rating', fill_value=0)\n",
        "\n",
        "# Transpose the matrix to get item-user matrix\n",
        "movie_user_ratings = user_movie_ratings.T\n",
        "\n",
        "# Initialize CountVectorizer to create the sparse matrix\n",
        "count = CountVectorizer(stop_words='english')\n",
        "movie_matrix = count.fit_transform(movie_user_ratings.index)\n",
        "\n",
        "# Compute the cosine similarity matrix\n",
        "cosine_sim = cosine_similarity(movie_matrix, movie_matrix)\n",
        "\n",
        "# Function to recommend movies based on user input\n",
        "def recommend_movies(movie_title, cosine_sim=cosine_sim, movie_user_ratings=movie_user_ratings):\n",
        "    try:\n",
        "        # Get the index of the movie that matches the title\n",
        "        idx = movie_user_ratings.index.get_loc(movie_title)\n",
        "    except KeyError:\n",
        "        print(f\"Movie '{movie_title}' not found in dataset.\")\n",
        "        return []\n",
        "\n",
        "    # Get the pairwise similarity scores of all movies with that movie\n",
        "    sim_scores = list(enumerate(cosine_sim[idx]))\n",
        "\n",
        "    # Sort the movies based on the similarity scores\n",
        "    sim_scores = sorted(sim_scores, key=lambda x: x[1], reverse=True)\n",
        "\n",
        "    # Get the scores of the 10 most similar movies\n",
        "    sim_scores = sim_scores[1:11]\n",
        "\n",
        "    # Get the movie indices\n",
        "    movie_indices = [i[0] for i in sim_scores]\n",
        "\n",
        "    # Return the top 10 most similar movies\n",
        "    return movie_user_ratings.index[movie_indices]\n",
        "\n",
        "# User input for movie title\n",
        "movie_title = input(\"Enter a movie title: \")\n",
        "\n",
        "# Recommend movies based on user input\n",
        "recommended_movies = recommend_movies(movie_title)\n",
        "\n",
        "print(f\"\\nMovies similar to '{movie_title}':\")\n",
        "for movie in recommended_movies:\n",
        "    print(movie)\n"
      ],
      "metadata": {
        "colab": {
          "base_uri": "https://localhost:8080/"
        },
        "id": "lNrscC_YqPVY",
        "outputId": "712758b5-45ad-4746-d0c3-823de64eb790"
      },
      "execution_count": null,
      "outputs": [
        {
          "output_type": "stream",
          "name": "stdout",
          "text": [
            "Enter a movie title: Toy Story (1995)\n",
            "\n",
            "Movies similar to 'Toy Story (1995)':\n",
            "Toy Story 2 (1999)\n",
            "Toy Story 3 (2010)\n",
            "Now and Then (1995)\n",
            "Pyromaniac's Love Story, A (1995)\n",
            "Two Much (1995)\n",
            "Serving in Silence: The Margarethe Cammermeyer Story (1995)\n",
            "Addiction, The (1995)\n",
            "Angus (1995)\n",
            "Assassins (1995)\n",
            "Babe (1995)\n"
          ]
        }
      ]
    }
  ]
}